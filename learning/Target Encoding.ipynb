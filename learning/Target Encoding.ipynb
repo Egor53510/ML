{
 "cells": [
  {
   "cell_type": "code",
   "execution_count": 2,
   "metadata": {},
   "outputs": [],
   "source": [
    "import pandas as pd\n",
    "import numpy as np\n",
    "from xgboost import XGBRegressor\n",
    "from category_encoders import MEstimateEncoder\n",
    "\n",
    "df = pd.read_csv('ames.csv')"
   ]
  },
  {
   "cell_type": "code",
   "execution_count": 8,
   "metadata": {},
   "outputs": [
    {
     "data": {
      "text/plain": [
       "Neighborhood     28\n",
       "Exterior2nd      17\n",
       "MSSubClass       16\n",
       "Exterior1st      16\n",
       "SaleType         10\n",
       "OverallQual      10\n",
       "Condition1        9\n",
       "OverallCond       9\n",
       "RoofMatl          8\n",
       "HouseStyle        8\n",
       "Condition2        8\n",
       "Functional        8\n",
       "MSZoning          7\n",
       "BsmtFinType2      7\n",
       "GarageType        7\n",
       "BsmtFinType1      7\n",
       "Heating           6\n",
       "Electrical        6\n",
       "FireplaceQu       6\n",
       "GarageQual        6\n",
       "GarageCond        6\n",
       "BsmtCond          6\n",
       "BsmtQual          6\n",
       "Foundation        6\n",
       "SaleCondition     6\n",
       "RoofStyle         6\n",
       "KitchenQual       5\n",
       "MiscFeature       5\n",
       "Fence             5\n",
       "PoolQC            5\n",
       "LotConfig         5\n",
       "ExterCond         5\n",
       "HeatingQC         5\n",
       "BldgType          5\n",
       "BsmtExposure      5\n",
       "ExterQual         4\n",
       "LandContour       4\n",
       "GarageFinish      4\n",
       "LotShape          4\n",
       "MasVnrType        4\n",
       "LandSlope         3\n",
       "Alley             3\n",
       "PavedDrive        3\n",
       "Utilities         3\n",
       "CentralAir        2\n",
       "Street            2\n",
       "dtype: int64"
      ]
     },
     "execution_count": 8,
     "metadata": {},
     "output_type": "execute_result"
    }
   ],
   "source": [
    "df.select_dtypes(['object']).nunique().sort_values(ascending=False)"
   ]
  },
  {
   "cell_type": "code",
   "execution_count": 9,
   "metadata": {},
   "outputs": [
    {
     "data": {
      "text/plain": [
       "Neighborhood\n",
       "North_Ames                                 443\n",
       "College_Creek                              267\n",
       "Old_Town                                   239\n",
       "Edwards                                    194\n",
       "Somerset                                   182\n",
       "Northridge_Heights                         166\n",
       "Gilbert                                    165\n",
       "Sawyer                                     151\n",
       "Northwest_Ames                             131\n",
       "Sawyer_West                                125\n",
       "Mitchell                                   114\n",
       "Brookside                                  108\n",
       "Crawford                                   103\n",
       "Iowa_DOT_and_Rail_Road                      93\n",
       "Timberland                                  72\n",
       "Northridge                                  71\n",
       "Stone_Brook                                 51\n",
       "South_and_West_of_Iowa_State_University     48\n",
       "Clear_Creek                                 44\n",
       "Meadow_Village                              37\n",
       "Briardale                                   30\n",
       "Bloomington_Heights                         28\n",
       "Veenker                                     24\n",
       "Northpark_Villa                             23\n",
       "Blueste                                     10\n",
       "Greens                                       8\n",
       "Green_Hills                                  2\n",
       "Landmark                                     1\n",
       "Name: count, dtype: int64"
      ]
     },
     "execution_count": 9,
     "metadata": {},
     "output_type": "execute_result"
    }
   ],
   "source": [
    "df['Neighborhood'].value_counts()"
   ]
  },
  {
   "cell_type": "code",
   "execution_count": 10,
   "metadata": {},
   "outputs": [],
   "source": [
    "X_encode = df.sample(frac=0.2, random_state=0)\n",
    "y_encode = X_encode.pop('SalePrice')\n",
    "\n",
    "X_pretrain = df.drop(X_encode.index)\n",
    "y_train = X_pretrain.pop('SalePrice')"
   ]
  },
  {
   "cell_type": "code",
   "execution_count": 13,
   "metadata": {},
   "outputs": [
    {
     "name": "stdout",
     "output_type": "stream",
     "text": [
      "                               MSSubClass  ... SaleCondition\n",
      "0     One_Story_1946_and_Newer_All_Styles  ...        Normal\n",
      "1     One_Story_1946_and_Newer_All_Styles  ...        Normal\n",
      "2     One_Story_1946_and_Newer_All_Styles  ...        Normal\n",
      "3     One_Story_1946_and_Newer_All_Styles  ...        Normal\n",
      "4                Two_Story_1946_and_Newer  ...        Normal\n",
      "...                                   ...  ...           ...\n",
      "2924  One_Story_1946_and_Newer_All_Styles  ...       Abnorml\n",
      "2925                  Split_or_Multilevel  ...        Normal\n",
      "2926  One_Story_1946_and_Newer_All_Styles  ...        Normal\n",
      "2927                          Split_Foyer  ...        Normal\n",
      "2929             Two_Story_1946_and_Newer  ...        Normal\n",
      "\n",
      "[2344 rows x 78 columns]\n"
     ]
    }
   ],
   "source": [
    "encoder = MEstimateEncoder(cols=['Neighborhood'], m=5.0)\n",
    "\n",
    "encoder.fit(X_encode, y_encode)\n",
    "X_train = encoder.transform(X_pretrain, y_train)\n",
    "print(X_train)"
   ]
  }
 ],
 "metadata": {
  "kernelspec": {
   "display_name": ".venv",
   "language": "python",
   "name": "python3"
  },
  "language_info": {
   "codemirror_mode": {
    "name": "ipython",
    "version": 3
   },
   "file_extension": ".py",
   "mimetype": "text/x-python",
   "name": "python",
   "nbconvert_exporter": "python",
   "pygments_lexer": "ipython3",
   "version": "3.10.11"
  }
 },
 "nbformat": 4,
 "nbformat_minor": 2
}
